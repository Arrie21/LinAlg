{
 "cells": [
  {
   "cell_type": "markdown",
   "id": "2b1c1f3d",
   "metadata": {},
   "source": [
    "# Часть 1."
   ]
  },
  {
   "cell_type": "code",
   "execution_count": 1,
   "id": "5f24d2ef",
   "metadata": {},
   "outputs": [],
   "source": [
    "import numpy as np"
   ]
  },
  {
   "cell_type": "markdown",
   "id": "5f8ba28d",
   "metadata": {},
   "source": [
    "## Задание 2"
   ]
  },
  {
   "cell_type": "code",
   "execution_count": 5,
   "id": "4aecd614",
   "metadata": {},
   "outputs": [
    {
     "name": "stdout",
     "output_type": "stream",
     "text": [
      "A+B\n",
      "[[ 5 -3]\n",
      " [ 3  5]]\n",
      "A*B\n",
      "[[  4 -11]\n",
      " [ 12  -3]]\n"
     ]
    }
   ],
   "source": [
    "A=np.array([[1, -2],\n",
    "           [3, 0]])\n",
    "B=np.array([[4, -1],\n",
    "           [0, 5]])\n",
    "print(f'A+B\\n{A + B}')\n",
    "print(f'A*B\\n{np.dot(A,B)}')"
   ]
  },
  {
   "cell_type": "markdown",
   "id": "ff073a14",
   "metadata": {},
   "source": [
    "## Задание 3"
   ]
  },
  {
   "cell_type": "code",
   "execution_count": 6,
   "id": "7906d8d5",
   "metadata": {},
   "outputs": [
    {
     "name": "stdout",
     "output_type": "stream",
     "text": [
      "3A-2B+4C=\n",
      "[[ 11  -5]\n",
      " [  9 -12]]\n"
     ]
    }
   ],
   "source": [
    "A=np.array([[1, 7],\n",
    "           [3, -6]])\n",
    "B=np.array([[0, 5],\n",
    "           [2, -1]])\n",
    "C=np.array([[2, -4],\n",
    "           [1, 1]])\n",
    "print(f'3A-2B+4C=\\n{3*A-2*B+4*C}')"
   ]
  },
  {
   "cell_type": "markdown",
   "id": "510115b8",
   "metadata": {},
   "source": [
    "## Задание 4"
   ]
  },
  {
   "cell_type": "code",
   "execution_count": 7,
   "id": "6055dbb9",
   "metadata": {},
   "outputs": [
    {
     "name": "stdout",
     "output_type": "stream",
     "text": [
      "AAT=\n",
      "[[17 18 11]\n",
      " [18 29  4]\n",
      " [11  4 13]]\n",
      "ATA=\n",
      "[[45  0]\n",
      " [ 0 14]]\n"
     ]
    }
   ],
   "source": [
    "A=np.array([[4, 1],\n",
    "           [5, -2],\n",
    "           [2, 3]])\n",
    "AT=A.T\n",
    "print(f'AAT=\\n{np.dot(A, AT)}')\n",
    "print(f'ATA=\\n{np.dot(AT, A)}')"
   ]
  },
  {
   "cell_type": "markdown",
   "id": "894bc0aa",
   "metadata": {},
   "source": [
    "# Часть 2."
   ]
  },
  {
   "cell_type": "markdown",
   "id": "ef7d3c42",
   "metadata": {},
   "source": [
    "## Задание 1"
   ]
  },
  {
   "cell_type": "code",
   "execution_count": 9,
   "id": "41776792",
   "metadata": {},
   "outputs": [
    {
     "name": "stdout",
     "output_type": "stream",
     "text": [
      "Матрица A=\n",
      "[[4 2 3]\n",
      " [0 5 1]\n",
      " [0 0 9]]\n",
      "Определитель =\n",
      "180\n",
      "Матрица B=\n",
      "[[1 2 3]\n",
      " [4 5 6]\n",
      " [7 8 9]]\n",
      "Определитель =\n",
      "-0\n"
     ]
    }
   ],
   "source": [
    "A=np.array([[4, 2, 3],\n",
    "           [0, 5, 1],\n",
    "           [0, 0, 9]])\n",
    "print(f'Матрица A=\\n{A}')\n",
    "print(f'Определитель =\\n{np.linalg.det(A):.0f}')\n",
    "B=np.array([[1, 2, 3],\n",
    "           [4, 5, 6],\n",
    "           [7, 8, 9]])\n",
    "print(f'Матрица B=\\n{B}')\n",
    "print(f'Определитель =\\n{np.linalg.det(B):.0f}')"
   ]
  },
  {
   "cell_type": "markdown",
   "id": "fba0134b",
   "metadata": {},
   "source": [
    "## Задание 3"
   ]
  },
  {
   "cell_type": "code",
   "execution_count": 17,
   "id": "f82127dd",
   "metadata": {},
   "outputs": [
    {
     "name": "stdout",
     "output_type": "stream",
     "text": [
      "Определитель =\n",
      "0\n"
     ]
    }
   ],
   "source": [
    "A=np.array([[-2, 7, -3],\n",
    "           [4, -14, 6],\n",
    "           [-3, 7, 13]])\n",
    "print(f'Определитель =\\n{np.linalg.det(A):.0f}')"
   ]
  },
  {
   "cell_type": "markdown",
   "id": "cc2a0357",
   "metadata": {},
   "source": [
    "## Задание 4"
   ]
  },
  {
   "cell_type": "code",
   "execution_count": 18,
   "id": "9cf53421",
   "metadata": {},
   "outputs": [
    {
     "name": "stdout",
     "output_type": "stream",
     "text": [
      "Ранг матрицы: 2\n"
     ]
    }
   ],
   "source": [
    "A=np.array([[1, 2, 3],\n",
    "           [1, 1, 1],\n",
    "           [2, 3, 4]])\n",
    "print(f'Ранг матрицы: {np.linalg.matrix_rank(A)}')"
   ]
  },
  {
   "cell_type": "code",
   "execution_count": 19,
   "id": "8afb01dc",
   "metadata": {},
   "outputs": [
    {
     "name": "stdout",
     "output_type": "stream",
     "text": [
      "Ранг матрицы: 3\n"
     ]
    }
   ],
   "source": [
    "B=np.array([[0, 0, 2, 1],\n",
    "           [0, 0, 2, 2],\n",
    "           [0, 0, 4, 3],\n",
    "           [2, 3, 5, 6]])\n",
    "print(f'Ранг матрицы: {np.linalg.matrix_rank(B)}')"
   ]
  }
 ],
 "metadata": {
  "kernelspec": {
   "display_name": "Python 3 (ipykernel)",
   "language": "python",
   "name": "python3"
  },
  "language_info": {
   "codemirror_mode": {
    "name": "ipython",
    "version": 3
   },
   "file_extension": ".py",
   "mimetype": "text/x-python",
   "name": "python",
   "nbconvert_exporter": "python",
   "pygments_lexer": "ipython3",
   "version": "3.9.13"
  }
 },
 "nbformat": 4,
 "nbformat_minor": 5
}
